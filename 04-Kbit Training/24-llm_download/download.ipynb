{
 "cells": [
  {
   "cell_type": "code",
   "execution_count": 1,
   "metadata": {},
   "outputs": [
    {
     "name": "stderr",
     "output_type": "stream",
     "text": [
      "2024-05-02 18:47:48,654 - modelscope - INFO - Loading ast index from /Users/zhoukaiming/.cache/modelscope/ast_indexer\n",
      "2024-05-02 18:47:48,718 - modelscope - INFO - Loading done! Current index file version is 1.14.0, with md5 c342d20eff1bedc1340e342abe453d7f and a total number of 976 components indexed\n"
     ]
    }
   ],
   "source": [
    "from modelscope.hub.snapshot_download import snapshot_download"
   ]
  },
  {
   "cell_type": "code",
   "execution_count": 2,
   "metadata": {},
   "outputs": [
    {
     "name": "stderr",
     "output_type": "stream",
     "text": [
      "2024-05-02 18:47:49,084 - modelscope - WARNING - Model revision not specified, use revision: v1.0.2\n",
      "Downloading: 100%|██████████| 21.0/21.0 [00:00<00:00, 4.26kB/s]\n",
      "Downloading: 100%|██████████| 583/583 [00:00<00:00, 169kB/s]\n",
      "Downloading: 100%|██████████| 183/183 [00:00<00:00, 74.6kB/s]\n",
      "Downloading: 100%|██████████| 179/179 [00:00<00:00, 133kB/s]\n",
      "Downloading: 100%|██████████| 6.86k/6.86k [00:00<00:00, 5.85MB/s]\n",
      "Downloading:   0%|          | 0.00/9.29G [00:00<?, ?B/s]"
     ]
    }
   ],
   "source": [
    "# model_id 模型id\n",
    "# cache_dir 本地缓存目录\n",
    "# ignore_file_pattern 无需下载的文件\n",
    "snapshot_download(model_id=\"modelscope/Llama-2-7b-ms\", cache_dir=\"/Users/zhoukaiming/Documents/Study/大模型学习/pretrained_models/\", ignore_file_pattern= \".bin\")"
   ]
  },
  {
   "cell_type": "code",
   "execution_count": null,
   "metadata": {},
   "outputs": [],
   "source": []
  }
 ],
 "metadata": {
  "kernelspec": {
   "display_name": "ms",
   "language": "python",
   "name": "python3"
  },
  "language_info": {
   "codemirror_mode": {
    "name": "ipython",
    "version": 3
   },
   "file_extension": ".py",
   "mimetype": "text/x-python",
   "name": "python",
   "nbconvert_exporter": "python",
   "pygments_lexer": "ipython3",
   "version": "3.9.19"
  },
  "vscode": {
   "interpreter": {
    "hash": "5f8cbd8c55a0bc10b98b7d7f1491790f03721404cd564f2dbf4c439ea4b36591"
   }
  }
 },
 "nbformat": 4,
 "nbformat_minor": 2
}
